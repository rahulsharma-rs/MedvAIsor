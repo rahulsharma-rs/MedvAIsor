{
 "cells": [
  {
   "cell_type": "code",
   "execution_count": 1,
   "id": "990b09e4-7a9f-45c0-afee-f880d92ea54b",
   "metadata": {},
   "outputs": [],
   "source": [
    "# example of correlation feature selection for numerical data\n",
    "from sklearn.datasets import make_regression\n",
    "from sklearn.model_selection import train_test_split\n",
    "from sklearn.feature_selection import SelectKBest\n",
    "from sklearn.feature_selection import f_regression\n",
    "from matplotlib import pyplot\n",
    "import pandas as pd\n",
    " "
   ]
  },
  {
   "cell_type": "markdown",
   "id": "a97abc41-34c6-4e89-95e0-f20faa06e283",
   "metadata": {
    "tags": []
   },
   "source": [
    "# Method for Feature Selection"
   ]
  },
  {
   "cell_type": "code",
   "execution_count": 2,
   "id": "2002f530-15cf-4520-a707-d0db8173407c",
   "metadata": {},
   "outputs": [],
   "source": [
    "# feature selection\n",
    "def select_features(X_train, y_train, X_test):\n",
    "\t# configure to select all features\n",
    "\tfs = SelectKBest(score_func=f_regression, k='all')\n",
    "\t# learn relationship from training data\n",
    "\tfs.fit(X_train, y_train)\n",
    "\t# transform train input data\n",
    "\tX_train_fs = fs.transform(X_train)\n",
    "\t# transform test input data\n",
    "\tX_test_fs = fs.transform(X_test)\n",
    "\treturn X_train_fs, X_test_fs, fs\n"
   ]
  },
  {
   "cell_type": "code",
   "execution_count": 3,
   "id": "21ef130c-e870-4153-b5ce-e6e40454095d",
   "metadata": {},
   "outputs": [],
   "source": [
    "## Loading the eintire data"
   ]
  },
  {
   "cell_type": "code",
   "execution_count": 4,
   "id": "505342d6-6e7e-4af2-9a98-8f90afb8856f",
   "metadata": {},
   "outputs": [],
   "source": [
    "panCancer_train_df = pd.read_csv('../../D2GNets/data/panCancer_train_CGC_657_DR_Drug_features_new_df.csv')\n",
    "GBM_train_df = pd.read_csv('../../D2GNets/data/GBM_train_CGC_657_DR_Drug_features_new_df.csv')"
   ]
  },
  {
   "cell_type": "code",
   "execution_count": 5,
   "id": "07651226-bf25-400a-b6d8-fdc07ca2511d",
   "metadata": {},
   "outputs": [],
   "source": [
    "# Loading the Drug, Disease, and Gene Feature names\n",
    "Disease_Xcols = (pd.read_csv('../../D2GNets/data/diseaseNames.csv')).columns.tolist()\n",
    "GE_Xcols =  (pd.read_csv('../../D2GNets/data/657_Gene_name.csv')).columns.tolist()+Disease_Xcols\n",
    "Drug_Xcols =  (pd.read_csv('../../D2GNets/data/moleculeNames_v1.csv')).columns.tolist()\n",
    "\n",
    "# Preparing the Pancancer data\n",
    "panCancer_df = pd.concat([panCancer_train_df,GBM_train_df],axis=0)\n",
    "#Selecting trainable features, Target columns, and TCGA acronym of cancers types\n",
    "panCancer_df = panCancer_df[Drug_Xcols+GE_Xcols+['TCGA_DESC','LN_IC50']]\n",
    "#dropping samples with missing values\n",
    "panCancer_df.dropna(inplace=True)\n",
    "\n"
   ]
  },
  {
   "cell_type": "code",
   "execution_count": 6,
   "id": "847d6dc0-e2c0-458a-9c3b-af850a3ad3cb",
   "metadata": {},
   "outputs": [],
   "source": [
    "\n",
    "X = panCancer_df[Drug_Xcols+GE_Xcols]# Data\n",
    "y = panCancer_df['LN_IC50'] # traget labels"
   ]
  },
  {
   "cell_type": "code",
   "execution_count": 7,
   "id": "ec0bff63-8929-44d0-928c-de2cba04e1b0",
   "metadata": {},
   "outputs": [],
   "source": [
    "# Preparing the data for modeling for Model selection score\n",
    "# split into train and test sets\n",
    "X_train, X_test, y_train, y_test = train_test_split(X, y, test_size=0.33, random_state=1)\n"
   ]
  },
  {
   "cell_type": "markdown",
   "id": "f96b57dd-3256-45ad-be0c-120b31018467",
   "metadata": {
    "tags": []
   },
   "source": [
    "# Performing feature selection"
   ]
  },
  {
   "cell_type": "code",
   "execution_count": 8,
   "id": "c667ce8c-b762-441f-9010-82226f3e65ea",
   "metadata": {},
   "outputs": [],
   "source": [
    "X_train_fs, X_test_fs, fs = select_features(X_train, y_train, X_test)"
   ]
  },
  {
   "cell_type": "code",
   "execution_count": 9,
   "id": "86cca319-c550-4317-b9e2-b018d53b8c79",
   "metadata": {},
   "outputs": [
    {
     "data": {
      "image/png": "[encoded data removed]",
      "text/plain": [
       "<Figure size 432x288 with 1 Axes>"
      ]
     },
     "metadata": {
      "needs_background": "light"
     },
     "output_type": "display_data"
    }
   ],
   "source": [
    "# Plotting the scores\n",
    "pyplot.bar([i for i in range(len(fs.scores_))], fs.scores_)\n",
    "pyplot.show()"
   ]
  },
  {
   "cell_type": "markdown",
   "id": "f72e3519-e800-4b0b-80e1-069b703aabcd",
   "metadata": {
    "tags": []
   },
   "source": [
    "# Saving the Feature Based Scores"
   ]
  },
  {
   "cell_type": "code",
   "execution_count": 10,
   "id": "ef5ece69-b12c-4bfb-9aea-276cb8f79665",
   "metadata": {},
   "outputs": [],
   "source": [
    "features_scores_df = pd.DataFrame()"
   ]
  },
  {
   "cell_type": "code",
   "execution_count": 11,
   "id": "581531db-f270-4ceb-87a8-d8d2912dafe1",
   "metadata": {},
   "outputs": [],
   "source": [
    "features_scores_df['Name'] = Drug_Xcols+GE_Xcols"
   ]
  },
  {
   "cell_type": "code",
   "execution_count": 12,
   "id": "9a4f67a5-04e8-4d8b-9990-8475061c3714",
   "metadata": {},
   "outputs": [],
   "source": [
    "features_scores_df['Score'] = fs.scores_"
   ]
  },
  {
   "cell_type": "code",
   "execution_count": 13,
   "id": "77c8a5fd-8a05-49d8-89d3-754225bb3b98",
   "metadata": {},
   "outputs": [],
   "source": [
    "# function to convert sequence strings into k-mer words, default size = 6 (hexamer words)\n",
    "def scoreClass(score):\n",
    "    if score!=None:\n",
    "        if (score>=0.0 and score<10.0):\n",
    "            return 'class1'\n",
    "        elif score>=10.0 and score<20.0:\n",
    "            return 'class2'\n",
    "        elif score>=20.0 and score<30.0:\n",
    "            return 'class3'\n",
    "        elif score>=30.0 and score<40.0:\n",
    "            return 'class4'\n",
    "        elif score>=40.0 and score<50.0:\n",
    "            return 'class5'\n",
    "        elif score>=50.0 and score<60.0:\n",
    "            return 'class6'\n",
    "        elif score>=60.0 and score<80.0:\n",
    "            return 'class7'\n",
    "        elif score>=80.0 and score<100.0:\n",
    "            return 'class8'\n",
    "        elif score>=100.0 and score<150.0:\n",
    "            return 'class9'\n",
    "        elif score>=150.0 and score<300.0:\n",
    "            return 'class10'\n",
    "        elif score>=300.0 and score<500.0:\n",
    "            return 'class11'\n",
    "        elif score>=500.0 and score<1500.0:\n",
    "            return 'class12'\n",
    "        else:\n",
    "            return 'class13'\n",
    "    else:\n",
    "        return None"
   ]
  },
  {
   "cell_type": "code",
   "execution_count": 14,
   "id": "aea8efac-317f-40a0-89c6-4c321310babf",
   "metadata": {},
   "outputs": [],
   "source": [
    "features_scores_df['ScoreClass'] = features_scores_df.apply(lambda x: scoreClass(x['Score']), axis=1)"
   ]
  },
  {
   "cell_type": "code",
   "execution_count": 15,
   "id": "730ac591-6ac1-43a6-abf5-6b5c890b5581",
   "metadata": {},
   "outputs": [
    {
     "data": {
      "text/html": [
       "<div>\n",
       "<style scoped>\n",
       "    .dataframe tbody tr th:only-of-type {\n",
       "        vertical-align: middle;\n",
       "    }\n",
       "\n",
       "    .dataframe tbody tr th {\n",
       "        vertical-align: top;\n",
       "    }\n",
       "\n",
       "    .dataframe thead th {\n",
       "        text-align: right;\n",
       "    }\n",
       "</style>\n",
       "<table border=\"1\" class=\"dataframe\">\n",
       "  <thead>\n",
       "    <tr style=\"text-align: right;\">\n",
       "      <th></th>\n",
       "      <th>Name</th>\n",
       "      <th>Score</th>\n",
       "      <th>ScoreClass</th>\n",
       "    </tr>\n",
       "  </thead>\n",
       "  <tbody>\n",
       "    <tr>\n",
       "      <th>0</th>\n",
       "      <td>mol1</td>\n",
       "      <td>896.059519</td>\n",
       "      <td>class12</td>\n",
       "    </tr>\n",
       "    <tr>\n",
       "      <th>1</th>\n",
       "      <td>mol2</td>\n",
       "      <td>1698.578517</td>\n",
       "      <td>class13</td>\n",
       "    </tr>\n",
       "    <tr>\n",
       "      <th>2</th>\n",
       "      <td>mol3</td>\n",
       "      <td>1225.187773</td>\n",
       "      <td>class12</td>\n",
       "    </tr>\n",
       "    <tr>\n",
       "      <th>3</th>\n",
       "      <td>mol4</td>\n",
       "      <td>1715.351348</td>\n",
       "      <td>class13</td>\n",
       "    </tr>\n",
       "    <tr>\n",
       "      <th>4</th>\n",
       "      <td>mol5</td>\n",
       "      <td>1368.360777</td>\n",
       "      <td>class12</td>\n",
       "    </tr>\n",
       "    <tr>\n",
       "      <th>...</th>\n",
       "      <td>...</td>\n",
       "      <td>...</td>\n",
       "      <td>...</td>\n",
       "    </tr>\n",
       "    <tr>\n",
       "      <th>3669</th>\n",
       "      <td>SKCM</td>\n",
       "      <td>5.536203</td>\n",
       "      <td>class1</td>\n",
       "    </tr>\n",
       "    <tr>\n",
       "      <th>3670</th>\n",
       "      <td>STAD</td>\n",
       "      <td>0.029842</td>\n",
       "      <td>class1</td>\n",
       "    </tr>\n",
       "    <tr>\n",
       "      <th>3671</th>\n",
       "      <td>THCA</td>\n",
       "      <td>34.218241</td>\n",
       "      <td>class4</td>\n",
       "    </tr>\n",
       "    <tr>\n",
       "      <th>3672</th>\n",
       "      <td>UCEC</td>\n",
       "      <td>26.779809</td>\n",
       "      <td>class3</td>\n",
       "    </tr>\n",
       "    <tr>\n",
       "      <th>3673</th>\n",
       "      <td>UNCLASSIFIED</td>\n",
       "      <td>278.479952</td>\n",
       "      <td>class10</td>\n",
       "    </tr>\n",
       "  </tbody>\n",
       "</table>\n",
       "<p>3674 rows × 3 columns</p>\n",
       "</div>"
      ],
      "text/plain": [
       "              Name        Score ScoreClass\n",
       "0             mol1   896.059519    class12\n",
       "1             mol2  1698.578517    class13\n",
       "2             mol3  1225.187773    class12\n",
       "3             mol4  1715.351348    class13\n",
       "4             mol5  1368.360777    class12\n",
       "...            ...          ...        ...\n",
       "3669          SKCM     5.536203     class1\n",
       "3670          STAD     0.029842     class1\n",
       "3671          THCA    34.218241     class4\n",
       "3672          UCEC    26.779809     class3\n",
       "3673  UNCLASSIFIED   278.479952    class10\n",
       "\n",
       "[3674 rows x 3 columns]"
      ]
     },
     "execution_count": 15,
     "metadata": {},
     "output_type": "execute_result"
    }
   ],
   "source": [
    "features_scores_df"
   ]
  },
  {
   "cell_type": "code",
   "execution_count": 16,
   "id": "5c83a2eb-03be-4ba6-9da9-541c676e68a6",
   "metadata": {},
   "outputs": [
    {
     "data": {
      "text/plain": [
       "Name           object\n",
       "Score         float64\n",
       "ScoreClass     object\n",
       "dtype: object"
      ]
     },
     "execution_count": 16,
     "metadata": {},
     "output_type": "execute_result"
    }
   ],
   "source": [
    "features_scores_df.dtypes"
   ]
  },
  {
   "cell_type": "code",
   "execution_count": 17,
   "id": "917ad782-0be2-47b8-bf9a-dc38127d79f9",
   "metadata": {},
   "outputs": [
    {
     "data": {
      "text/plain": [
       "class12    646\n",
       "class10    564\n",
       "class1     516\n",
       "class11    508\n",
       "class13    305\n",
       "class2     232\n",
       "class9     210\n",
       "class8     162\n",
       "class7     148\n",
       "class4     130\n",
       "class3     106\n",
       "class5      79\n",
       "class6      68\n",
       "Name: ScoreClass, dtype: int64"
      ]
     },
     "execution_count": 17,
     "metadata": {},
     "output_type": "execute_result"
    }
   ],
   "source": [
    "(features_scores_df)['ScoreClass'].value_counts()"
   ]
  },
  {
   "cell_type": "code",
   "execution_count": 18,
   "id": "04642c68-23de-4377-b112-3572a260b8d6",
   "metadata": {},
   "outputs": [],
   "source": [
    "# saving the DataFrame\n",
    "features_scores_df.to_csv('../../D2GNets/supplementary_material/featureScore.csv',index=False)"
   ]
  },
  {
   "cell_type": "code",
   "execution_count": null,
   "id": "23a05e0d-ff3e-4d35-bd46-75895e6e0589",
   "metadata": {},
   "outputs": [],
   "source": []
  }
 ],
 "metadata": {
  "kernelspec": {
   "display_name": "Python [conda env:.conda-BioinPM]",
   "language": "python",
   "name": "conda-env-.conda-BioinPM-py"
  },
  "language_info": {
   "codemirror_mode": {
    "name": "ipython",
    "version": 3
   },
   "file_extension": ".py",
   "mimetype": "text/x-python",
   "name": "python",
   "nbconvert_exporter": "python",
   "pygments_lexer": "ipython3",
   "version": "3.7.11"
  }
 },
 "nbformat": 4,
 "nbformat_minor": 5
}
