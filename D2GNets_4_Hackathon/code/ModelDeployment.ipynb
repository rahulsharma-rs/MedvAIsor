{
 "cells": [
  {
   "cell_type": "code",
   "execution_count": 2,
   "id": "ea3c0b5d-cdae-4e2d-9d2f-f8bbabed9da1",
   "metadata": {},
   "outputs": [],
   "source": [
    "import pandas as pd\n",
    "from sklearn.preprocessing import QuantileTransformer, quantile_transform\n",
    "import matplotlib.pyplot as plt\n",
    "from pycaret.regression import *\n",
    "from pycaret.utils import check_metric\n",
    "from matplotlib import pyplot as plt\n",
    "import seaborn as sns"
   ]
  },
  {
   "cell_type": "code",
   "execution_count": 120,
   "id": "81d12e97-5967-4984-949f-304fa4edfd19",
   "metadata": {},
   "outputs": [
    {
     "name": "stdout",
     "output_type": "stream",
     "text": [
      "Transformation Pipeline and Model Successfully Loaded\n"
     ]
    }
   ],
   "source": [
    "model=load_model('../../D2GNets/models/LGBM/Exp1_hackathon')"
   ]
  },
  {
   "cell_type": "code",
   "execution_count": 180,
   "id": "36fda451-526d-4a9d-8e04-a0cf4411e08a",
   "metadata": {},
   "outputs": [],
   "source": [
    "ge = pd.read_csv('../../D2GNets/data/AllGE_GBM_657.csv')"
   ]
  },
  {
   "cell_type": "code",
   "execution_count": 181,
   "id": "3d84d24e-3860-49e3-b16a-53b522b169e0",
   "metadata": {},
   "outputs": [],
   "source": [
    "ge['TCGA_DESC']='GBM'"
   ]
  },
  {
   "cell_type": "code",
   "execution_count": 182,
   "id": "0a385e1a-c5f8-433b-8493-2fa0a6d3d28f",
   "metadata": {},
   "outputs": [],
   "source": [
    "test_samples = [905983, 905986, 906746,906835,]"
   ]
  },
  {
   "cell_type": "code",
   "execution_count": 183,
   "id": "263b269d-ec53-4f2f-a279-c181b21edcbb",
   "metadata": {},
   "outputs": [],
   "source": [
    "features=pd.read_csv('../../D2GNets/results/feature_exp11.csv')"
   ]
  },
  {
   "cell_type": "code",
   "execution_count": 184,
   "id": "a97c2d1e-ee67-4fd7-bded-38d103d08ebf",
   "metadata": {},
   "outputs": [
    {
     "data": {
      "text/plain": [
       "2656"
      ]
     },
     "execution_count": 184,
     "metadata": {},
     "output_type": "execute_result"
    }
   ],
   "source": [
    "len(features)"
   ]
  },
  {
   "cell_type": "code",
   "execution_count": 185,
   "id": "8b7a43b4-8e9f-4b01-bc45-4f3741fe2fd8",
   "metadata": {},
   "outputs": [],
   "source": [
    "fetatures = features['Feature'].to_list()"
   ]
  },
  {
   "cell_type": "code",
   "execution_count": 186,
   "id": "994ed493-7e7e-4605-aa5e-aefeb0116ba5",
   "metadata": {},
   "outputs": [
    {
     "name": "stdout",
     "output_type": "stream",
     "text": [
      "No. of disease features: 31\n"
     ]
    }
   ],
   "source": [
    "Disease_feature=fetatures[:31]\n",
    "print(f'No. of disease features: {len(Disease_feature)}')"
   ]
  },
  {
   "cell_type": "code",
   "execution_count": null,
   "id": "2dfa7894-9ccb-4f14-a625-0986c5da5e1d",
   "metadata": {},
   "outputs": [],
   "source": []
  },
  {
   "cell_type": "code",
   "execution_count": 187,
   "id": "ff08f6b4-545f-489a-b187-75f775bfbd60",
   "metadata": {},
   "outputs": [
    {
     "name": "stdout",
     "output_type": "stream",
     "text": [
      "No. of drug features: 1968\n"
     ]
    }
   ],
   "source": [
    "drug_features = fetatures[31:31+1968]\n",
    "print(f'No. of drug features: {len(drug_features)}')"
   ]
  },
  {
   "cell_type": "code",
   "execution_count": 188,
   "id": "63dec117-7c72-4a24-adc0-aed6182b1868",
   "metadata": {},
   "outputs": [
    {
     "name": "stdout",
     "output_type": "stream",
     "text": [
      "No. of gene features: 657\n"
     ]
    }
   ],
   "source": [
    "gene_features = fetatures[31+1968:]\n",
    "print(f'No. of gene features: {len(gene_features)}')"
   ]
  },
  {
   "cell_type": "code",
   "execution_count": 189,
   "id": "3006c6d1-aada-421b-ab71-13c078422a39",
   "metadata": {},
   "outputs": [],
   "source": [
    "drugs = pd.read_csv('../../D2GNets/data/gbm_drugs_FE.csv')\n",
    "#drugs = pd.read_csv('../../D2GNets/data/SMILES_FeatureEngineered_new.csv')"
   ]
  },
  {
   "cell_type": "code",
   "execution_count": null,
   "id": "8ac27e68-471e-4f59-a5cf-4bff5d6d792a",
   "metadata": {},
   "outputs": [],
   "source": []
  },
  {
   "cell_type": "code",
   "execution_count": 190,
   "id": "c0f15613-e830-46b7-ac94-cd71ef0c32ff",
   "metadata": {},
   "outputs": [],
   "source": [
    "#drugs=(drugs[drugs['DRUG_NAME'].isin(drug_list)])[['DRUG_NAME']+drug_features]"
   ]
  },
  {
   "cell_type": "code",
   "execution_count": 191,
   "id": "ce8a43e4-1365-42df-8863-afc8de132488",
   "metadata": {},
   "outputs": [],
   "source": [
    "#drugs.to_csv('../../D2GNets/data/gbm_drugs_FE.csv',index=False)"
   ]
  },
  {
   "cell_type": "code",
   "execution_count": 192,
   "id": "9ad5aa65-2029-41fa-b802-21ecbb6f2f7c",
   "metadata": {},
   "outputs": [
    {
     "data": {
      "text/plain": [
       "Index(['DRUG_NAME', 'mol1 mol2 mol1 mol1 mol2 mol2 mol1 mol2',\n",
       "       'mol1 mol6 mol1 mol1 mol6', 'mol2 mol2 mol1 mol2 mol6 mol1 mol1 mol1',\n",
       "       'mol1 mol6 mol1 mol2 mol1 mol2',\n",
       "       'mol1 mol1 mol1 mol7 mol4 mol6 mol1 mol1',\n",
       "       'mol1 mol1 mol1 mol2 mol1 mol6 mol6 mol1',\n",
       "       'mol1 mol1 mol5 mol2 mol2 mol6', 'mol2 mol2 mol2 mol8 mol2 mol2 mol2',\n",
       "       'mol1 mol4 mol1 mol2 mol1 mol6',\n",
       "       ...\n",
       "       'mol1 mol1 mol1 mol4', 'mol2 mol1 mol6 mol1 mol1 mol6 mol1 mol1',\n",
       "       'mol1 mol1 mol2 mol1 mol2 mol2 mol1',\n",
       "       'mol1 mol2 mol1 mol1 mol5 mol1 mol6 mol1',\n",
       "       'mol4 mol4 mol4 mol6 mol6 mol1 mol1',\n",
       "       'mol1 mol6 mol1 mol1 mol2 mol8 mol2 mol2', 'mol5 mol2 mol1 mol1',\n",
       "       'mol4', 'mol5 mol5 mol1 mol1 mol1 mol1', 'mol1 mol6 mol2'],\n",
       "      dtype='object', length=1969)"
      ]
     },
     "execution_count": 192,
     "metadata": {},
     "output_type": "execute_result"
    }
   ],
   "source": [
    "drugs.columns"
   ]
  },
  {
   "cell_type": "code",
   "execution_count": 193,
   "id": "a3e4b256-3611-4c06-8178-80d8e2309c88",
   "metadata": {},
   "outputs": [],
   "source": [
    "drug_list = ['Temozolomide', 'Carmustine' ,'Topotecan' ,'Crizotinib' ,'Gefitinib' ,'Bortezomib' ,'Teniposide']"
   ]
  },
  {
   "cell_type": "code",
   "execution_count": 194,
   "id": "3ff573b3-5839-40ed-b70c-ab1b57249a6a",
   "metadata": {},
   "outputs": [],
   "source": [
    "for cn in Disease_feature:\n",
    "    if cn =='GBM':\n",
    "        ge[cn]=1\n",
    "    else:\n",
    "        ge[cn]=0"
   ]
  },
  {
   "cell_type": "code",
   "execution_count": 195,
   "id": "9be26f5d-9408-4bd4-9070-ec36cbc4b3eb",
   "metadata": {},
   "outputs": [],
   "source": [
    "ge = ge.assign(key=1).merge(drugs.assign(key=1),how='outer',on='key')"
   ]
  },
  {
   "cell_type": "code",
   "execution_count": 196,
   "id": "eee2a3a5-e8bf-4613-8f3b-b35464aeba0c",
   "metadata": {},
   "outputs": [],
   "source": [
    "ge.drop(columns=['key'],inplace=True)"
   ]
  },
  {
   "cell_type": "code",
   "execution_count": 197,
   "id": "9d2b1420-8663-43c8-9be1-40acb865bf76",
   "metadata": {},
   "outputs": [],
   "source": [
    "ge =ge[Disease_feature+drug_features+gene_features+['TCGA_DESC','SAMPLE_ID','DRUG_NAME']]"
   ]
  },
  {
   "cell_type": "code",
   "execution_count": 198,
   "id": "5378dd7e-9dfa-4f77-9167-9ec8aacd550c",
   "metadata": {},
   "outputs": [
    {
     "data": {
      "text/plain": [
       "(28, 2659)"
      ]
     },
     "execution_count": 198,
     "metadata": {},
     "output_type": "execute_result"
    }
   ],
   "source": [
    "ge.shape"
   ]
  },
  {
   "cell_type": "code",
   "execution_count": 199,
   "id": "17c02bce-1685-49a2-a636-638cc13fc77e",
   "metadata": {},
   "outputs": [],
   "source": [
    "unseen_predict1 =predict_model(model, data=ge)"
   ]
  },
  {
   "cell_type": "code",
   "execution_count": 200,
   "id": "4797fee0-d009-48a4-b1d7-3c57feabe169",
   "metadata": {},
   "outputs": [
    {
     "data": {
      "text/html": [
       "<div>\n",
       "<style scoped>\n",
       "    .dataframe tbody tr th:only-of-type {\n",
       "        vertical-align: middle;\n",
       "    }\n",
       "\n",
       "    .dataframe tbody tr th {\n",
       "        vertical-align: top;\n",
       "    }\n",
       "\n",
       "    .dataframe thead th {\n",
       "        text-align: right;\n",
       "    }\n",
       "</style>\n",
       "<table border=\"1\" class=\"dataframe\">\n",
       "  <thead>\n",
       "    <tr style=\"text-align: right;\">\n",
       "      <th></th>\n",
       "      <th>TCGA_DESC</th>\n",
       "      <th>SAMPLE_ID</th>\n",
       "      <th>DRUG_NAME</th>\n",
       "      <th>Label</th>\n",
       "    </tr>\n",
       "  </thead>\n",
       "  <tbody>\n",
       "    <tr>\n",
       "      <th>0</th>\n",
       "      <td>GBM</td>\n",
       "      <td>905983</td>\n",
       "      <td>Crizotinib</td>\n",
       "      <td>3.560047</td>\n",
       "    </tr>\n",
       "    <tr>\n",
       "      <th>1</th>\n",
       "      <td>GBM</td>\n",
       "      <td>905983</td>\n",
       "      <td>Temozolomide</td>\n",
       "      <td>5.347628</td>\n",
       "    </tr>\n",
       "    <tr>\n",
       "      <th>2</th>\n",
       "      <td>GBM</td>\n",
       "      <td>905983</td>\n",
       "      <td>Carmustine</td>\n",
       "      <td>5.277817</td>\n",
       "    </tr>\n",
       "    <tr>\n",
       "      <th>3</th>\n",
       "      <td>GBM</td>\n",
       "      <td>905983</td>\n",
       "      <td>Topotecan</td>\n",
       "      <td>4.948876</td>\n",
       "    </tr>\n",
       "    <tr>\n",
       "      <th>4</th>\n",
       "      <td>GBM</td>\n",
       "      <td>905983</td>\n",
       "      <td>Gefitinib</td>\n",
       "      <td>2.898151</td>\n",
       "    </tr>\n",
       "    <tr>\n",
       "      <th>5</th>\n",
       "      <td>GBM</td>\n",
       "      <td>905983</td>\n",
       "      <td>Teniposide</td>\n",
       "      <td>1.963512</td>\n",
       "    </tr>\n",
       "    <tr>\n",
       "      <th>6</th>\n",
       "      <td>GBM</td>\n",
       "      <td>905983</td>\n",
       "      <td>Bortezomib</td>\n",
       "      <td>1.351642</td>\n",
       "    </tr>\n",
       "    <tr>\n",
       "      <th>7</th>\n",
       "      <td>GBM</td>\n",
       "      <td>905986</td>\n",
       "      <td>Crizotinib</td>\n",
       "      <td>3.462927</td>\n",
       "    </tr>\n",
       "    <tr>\n",
       "      <th>8</th>\n",
       "      <td>GBM</td>\n",
       "      <td>905986</td>\n",
       "      <td>Temozolomide</td>\n",
       "      <td>5.221748</td>\n",
       "    </tr>\n",
       "    <tr>\n",
       "      <th>9</th>\n",
       "      <td>GBM</td>\n",
       "      <td>905986</td>\n",
       "      <td>Carmustine</td>\n",
       "      <td>5.160110</td>\n",
       "    </tr>\n",
       "    <tr>\n",
       "      <th>10</th>\n",
       "      <td>GBM</td>\n",
       "      <td>905986</td>\n",
       "      <td>Topotecan</td>\n",
       "      <td>4.732253</td>\n",
       "    </tr>\n",
       "    <tr>\n",
       "      <th>11</th>\n",
       "      <td>GBM</td>\n",
       "      <td>905986</td>\n",
       "      <td>Gefitinib</td>\n",
       "      <td>2.629571</td>\n",
       "    </tr>\n",
       "    <tr>\n",
       "      <th>12</th>\n",
       "      <td>GBM</td>\n",
       "      <td>905986</td>\n",
       "      <td>Teniposide</td>\n",
       "      <td>1.899156</td>\n",
       "    </tr>\n",
       "    <tr>\n",
       "      <th>13</th>\n",
       "      <td>GBM</td>\n",
       "      <td>905986</td>\n",
       "      <td>Bortezomib</td>\n",
       "      <td>1.060441</td>\n",
       "    </tr>\n",
       "    <tr>\n",
       "      <th>14</th>\n",
       "      <td>GBM</td>\n",
       "      <td>906746</td>\n",
       "      <td>Crizotinib</td>\n",
       "      <td>3.441745</td>\n",
       "    </tr>\n",
       "    <tr>\n",
       "      <th>15</th>\n",
       "      <td>GBM</td>\n",
       "      <td>906746</td>\n",
       "      <td>Temozolomide</td>\n",
       "      <td>5.192765</td>\n",
       "    </tr>\n",
       "    <tr>\n",
       "      <th>16</th>\n",
       "      <td>GBM</td>\n",
       "      <td>906746</td>\n",
       "      <td>Carmustine</td>\n",
       "      <td>5.179969</td>\n",
       "    </tr>\n",
       "    <tr>\n",
       "      <th>17</th>\n",
       "      <td>GBM</td>\n",
       "      <td>906746</td>\n",
       "      <td>Topotecan</td>\n",
       "      <td>4.606600</td>\n",
       "    </tr>\n",
       "    <tr>\n",
       "      <th>18</th>\n",
       "      <td>GBM</td>\n",
       "      <td>906746</td>\n",
       "      <td>Gefitinib</td>\n",
       "      <td>2.628216</td>\n",
       "    </tr>\n",
       "    <tr>\n",
       "      <th>19</th>\n",
       "      <td>GBM</td>\n",
       "      <td>906746</td>\n",
       "      <td>Teniposide</td>\n",
       "      <td>1.820250</td>\n",
       "    </tr>\n",
       "    <tr>\n",
       "      <th>20</th>\n",
       "      <td>GBM</td>\n",
       "      <td>906746</td>\n",
       "      <td>Bortezomib</td>\n",
       "      <td>1.104198</td>\n",
       "    </tr>\n",
       "    <tr>\n",
       "      <th>21</th>\n",
       "      <td>GBM</td>\n",
       "      <td>906835</td>\n",
       "      <td>Crizotinib</td>\n",
       "      <td>4.658828</td>\n",
       "    </tr>\n",
       "    <tr>\n",
       "      <th>22</th>\n",
       "      <td>GBM</td>\n",
       "      <td>906835</td>\n",
       "      <td>Temozolomide</td>\n",
       "      <td>6.432364</td>\n",
       "    </tr>\n",
       "    <tr>\n",
       "      <th>23</th>\n",
       "      <td>GBM</td>\n",
       "      <td>906835</td>\n",
       "      <td>Carmustine</td>\n",
       "      <td>6.374733</td>\n",
       "    </tr>\n",
       "    <tr>\n",
       "      <th>24</th>\n",
       "      <td>GBM</td>\n",
       "      <td>906835</td>\n",
       "      <td>Topotecan</td>\n",
       "      <td>5.827046</td>\n",
       "    </tr>\n",
       "    <tr>\n",
       "      <th>25</th>\n",
       "      <td>GBM</td>\n",
       "      <td>906835</td>\n",
       "      <td>Gefitinib</td>\n",
       "      <td>3.812967</td>\n",
       "    </tr>\n",
       "    <tr>\n",
       "      <th>26</th>\n",
       "      <td>GBM</td>\n",
       "      <td>906835</td>\n",
       "      <td>Teniposide</td>\n",
       "      <td>3.262722</td>\n",
       "    </tr>\n",
       "    <tr>\n",
       "      <th>27</th>\n",
       "      <td>GBM</td>\n",
       "      <td>906835</td>\n",
       "      <td>Bortezomib</td>\n",
       "      <td>2.201729</td>\n",
       "    </tr>\n",
       "  </tbody>\n",
       "</table>\n",
       "</div>"
      ],
      "text/plain": [
       "   TCGA_DESC  SAMPLE_ID     DRUG_NAME     Label\n",
       "0        GBM     905983    Crizotinib  3.560047\n",
       "1        GBM     905983  Temozolomide  5.347628\n",
       "2        GBM     905983    Carmustine  5.277817\n",
       "3        GBM     905983     Topotecan  4.948876\n",
       "4        GBM     905983     Gefitinib  2.898151\n",
       "5        GBM     905983    Teniposide  1.963512\n",
       "6        GBM     905983    Bortezomib  1.351642\n",
       "7        GBM     905986    Crizotinib  3.462927\n",
       "8        GBM     905986  Temozolomide  5.221748\n",
       "9        GBM     905986    Carmustine  5.160110\n",
       "10       GBM     905986     Topotecan  4.732253\n",
       "11       GBM     905986     Gefitinib  2.629571\n",
       "12       GBM     905986    Teniposide  1.899156\n",
       "13       GBM     905986    Bortezomib  1.060441\n",
       "14       GBM     906746    Crizotinib  3.441745\n",
       "15       GBM     906746  Temozolomide  5.192765\n",
       "16       GBM     906746    Carmustine  5.179969\n",
       "17       GBM     906746     Topotecan  4.606600\n",
       "18       GBM     906746     Gefitinib  2.628216\n",
       "19       GBM     906746    Teniposide  1.820250\n",
       "20       GBM     906746    Bortezomib  1.104198\n",
       "21       GBM     906835    Crizotinib  4.658828\n",
       "22       GBM     906835  Temozolomide  6.432364\n",
       "23       GBM     906835    Carmustine  6.374733\n",
       "24       GBM     906835     Topotecan  5.827046\n",
       "25       GBM     906835     Gefitinib  3.812967\n",
       "26       GBM     906835    Teniposide  3.262722\n",
       "27       GBM     906835    Bortezomib  2.201729"
      ]
     },
     "execution_count": 200,
     "metadata": {},
     "output_type": "execute_result"
    }
   ],
   "source": [
    "unseen_predict1[unseen_predict1.columns[-4:]]"
   ]
  },
  {
   "cell_type": "code",
   "execution_count": null,
   "id": "d25ea600-4657-47a8-a67a-53a15b08d3f9",
   "metadata": {},
   "outputs": [],
   "source": []
  }
 ],
 "metadata": {
  "kernelspec": {
   "display_name": "Python [conda env:.conda-BioinPM]",
   "language": "python",
   "name": "conda-env-.conda-BioinPM-py"
  },
  "language_info": {
   "codemirror_mode": {
    "name": "ipython",
    "version": 3
   },
   "file_extension": ".py",
   "mimetype": "text/x-python",
   "name": "python",
   "nbconvert_exporter": "python",
   "pygments_lexer": "ipython3",
   "version": "3.7.11"
  }
 },
 "nbformat": 4,
 "nbformat_minor": 5
}
